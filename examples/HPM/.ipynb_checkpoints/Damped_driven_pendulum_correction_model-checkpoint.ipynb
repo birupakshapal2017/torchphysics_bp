{
 "cells": [
  {
   "cell_type": "code",
   "execution_count": 1,
   "id": "cb57bea1",
   "metadata": {},
   "outputs": [],
   "source": [
    "import os\n",
    "os.environ[\"CUDA_VISIBLE_DEVICES\"] = \"0\" # select GPUs to use"
   ]
  },
  {
   "cell_type": "code",
   "execution_count": 2,
   "id": "1f78e231",
   "metadata": {},
   "outputs": [
    {
     "name": "stderr",
     "output_type": "stream",
     "text": [
      "/home/ibp5kor/.conda/envs/torchphysics/lib/python3.7/site-packages/tqdm/auto.py:22: TqdmWarning: IProgress not found. Please update jupyter and ipywidgets. See https://ipywidgets.readthedocs.io/en/stable/user_install.html\n",
      "  from .autonotebook import tqdm as notebook_tqdm\n"
     ]
    }
   ],
   "source": [
    "import torchphysics as tp\n",
    "#import copy\n",
    "import numpy as np\n",
    "import torch\n",
    "import pytorch_lightning as pl\n",
    "import scipy.io\n",
    "from scipy.interpolate import griddata\n",
    "import time\n",
    "import matplotlib.gridspec as gridspec\n",
    "from matplotlib import pyplot as plt\n",
    "\n",
    "\n",
    "from torchphysics.problem.conditions.condition import DataCondition,  HPCMCondition"
   ]
  },
  {
   "cell_type": "code",
   "execution_count": null,
   "id": "bfdcb5cc",
   "metadata": {},
   "outputs": [],
   "source": []
  }
 ],
 "metadata": {
  "kernelspec": {
   "display_name": "Python [conda env:.conda-torchphysics]",
   "language": "python",
   "name": "conda-env-.conda-torchphysics-py"
  },
  "language_info": {
   "codemirror_mode": {
    "name": "ipython",
    "version": 3
   },
   "file_extension": ".py",
   "mimetype": "text/x-python",
   "name": "python",
   "nbconvert_exporter": "python",
   "pygments_lexer": "ipython3",
   "version": "3.7.16"
  }
 },
 "nbformat": 4,
 "nbformat_minor": 5
}
