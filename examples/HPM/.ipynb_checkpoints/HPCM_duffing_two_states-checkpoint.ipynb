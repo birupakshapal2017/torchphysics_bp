{
 "cells": [
  {
   "cell_type": "code",
   "execution_count": 1,
   "id": "94617431",
   "metadata": {},
   "outputs": [],
   "source": [
    "import os\n",
    "os.environ[\"CUDA_VISIBLE_DEVICES\"] = \"0\" # select GPUs to use"
   ]
  },
  {
   "cell_type": "code",
   "execution_count": 2,
   "id": "946f6a6a",
   "metadata": {},
   "outputs": [
    {
     "name": "stderr",
     "output_type": "stream",
     "text": [
      "/home/ibp5kor/.conda/envs/torchphysics/lib/python3.7/site-packages/tqdm/auto.py:22: TqdmWarning: IProgress not found. Please update jupyter and ipywidgets. See https://ipywidgets.readthedocs.io/en/stable/user_install.html\n",
      "  from .autonotebook import tqdm as notebook_tqdm\n"
     ]
    },
    {
     "ename": "ImportError",
     "evalue": "cannot import name 'SampleHPMCondition' from 'torchphysics.problem.conditions.condition' (/home/ibp5kor/.conda/envs/torchphysics/lib/python3.7/site-packages/torchphysics/problem/conditions/condition.py)",
     "output_type": "error",
     "traceback": [
      "\u001b[0;31m---------------------------------------------------------------------------\u001b[0m",
      "\u001b[0;31mImportError\u001b[0m                               Traceback (most recent call last)",
      "\u001b[0;32m/tmp/ipykernel_773537/3676375590.py\u001b[0m in \u001b[0;36m<module>\u001b[0;34m\u001b[0m\n\u001b[1;32m     11\u001b[0m \u001b[0;34m\u001b[0m\u001b[0m\n\u001b[1;32m     12\u001b[0m \u001b[0;34m\u001b[0m\u001b[0m\n\u001b[0;32m---> 13\u001b[0;31m \u001b[0;32mfrom\u001b[0m \u001b[0mtorchphysics\u001b[0m\u001b[0;34m.\u001b[0m\u001b[0mproblem\u001b[0m\u001b[0;34m.\u001b[0m\u001b[0mconditions\u001b[0m\u001b[0;34m.\u001b[0m\u001b[0mcondition\u001b[0m \u001b[0;32mimport\u001b[0m \u001b[0mDataCondition\u001b[0m\u001b[0;34m,\u001b[0m \u001b[0mSampleHPMCondition\u001b[0m\u001b[0;34m,\u001b[0m \u001b[0mHPCMCondition\u001b[0m\u001b[0;34m\u001b[0m\u001b[0;34m\u001b[0m\u001b[0m\n\u001b[0m",
      "\u001b[0;31mImportError\u001b[0m: cannot import name 'SampleHPMCondition' from 'torchphysics.problem.conditions.condition' (/home/ibp5kor/.conda/envs/torchphysics/lib/python3.7/site-packages/torchphysics/problem/conditions/condition.py)"
     ]
    }
   ],
   "source": [
    "import torchphysics as tp\n",
    "#import copy\n",
    "import numpy as np\n",
    "import torch\n",
    "import pytorch_lightning as pl\n",
    "import scipy.io\n",
    "from scipy.interpolate import griddata\n",
    "import time\n",
    "import matplotlib.gridspec as gridspec\n",
    "from matplotlib import pyplot as plt\n",
    "\n",
    "\n",
    "from torchphysics.problem.conditions.condition import DataCondition, SampleHPMCondition, HPCMCondition"
   ]
  },
  {
   "cell_type": "code",
   "execution_count": null,
   "id": "227f3071",
   "metadata": {},
   "outputs": [],
   "source": [
    "os.environ[\"KMP_DUPLICATE_LIB_OK\"]=\"TRUE\"\n",
    "import sys\n",
    "print('__Python VERSION:', sys.version)\n",
    "print('__pyTorch VERSION:', torch.__version__)\n",
    "print('__CUDA VERSION')\n",
    "print('__CUDNN VERSION:', torch.backends.cudnn.version())\n",
    "print('__Number CUDA Devices:', torch.cuda.device_count())\n",
    "print('__Devices')\n",
    "print('Active CUDA Device: GPU', torch.cuda.current_device())\n",
    "print ('Available devices ', torch.cuda.device_count())\n",
    "print ('Current cuda device ', torch.cuda.current_device())\n",
    "np.random.seed(1234)\n"
   ]
  },
  {
   "cell_type": "code",
   "execution_count": null,
   "id": "b0b6a192",
   "metadata": {},
   "outputs": [],
   "source": [
    "from scipy.integrate import odeint"
   ]
  },
  {
   "cell_type": "code",
   "execution_count": null,
   "id": "210bcc2e",
   "metadata": {},
   "outputs": [],
   "source": [
    "def oscillator_state(state, t, delta, alpha, beta, gamma, omega):\n",
    "\n",
    "    x,vx = state\n",
    "        \n",
    "    state_dt = [vx, -delta*vx - alpha*x - beta*x**3 + gamma*np.cos(omega*t)]\n",
    "\n",
    "    return state_dt\n",
    "\n",
    "def oscillator_state_linear(state, t, delta, alpha, gamma, omega):\n",
    "\n",
    "    x,vx = state\n",
    "    \n",
    "    state_dt = [vx, -delta*vx - alpha*x + gamma*np.cos(omega*t)]\n",
    "\n",
    "    return state_dt"
   ]
  },
  {
   "cell_type": "code",
   "execution_count": null,
   "id": "2a0bcab0",
   "metadata": {},
   "outputs": [],
   "source": [
    "delta = 0.3 #1.0 #0.3\n",
    "omega = 1.2\n",
    "alpha = -1.0 #-0.1 #-1.0\n",
    "beta  = 1.0\n",
    "gamma = 0.2\n",
    "state0 = [1.0, 0.]\n",
    "Tp = 2*np.pi/omega\n",
    "tfinal = 5*Tp   #10.0\n",
    "dt =  0.01\n",
    "t_sol =  np.arange(0.0,tfinal+dt,dt)"
   ]
  },
  {
   "cell_type": "code",
   "execution_count": null,
   "id": "964d4fa2",
   "metadata": {},
   "outputs": [],
   "source": [
    "sol = odeint(oscillator_state, state0, t_sol, args=(delta, alpha, beta, gamma, omega))\n",
    "sol_tool = odeint(oscillator_state, state0, t_sol, args=(delta+0.1, alpha+0.01, beta + 0.1, gamma, omega))\n",
    "#sol_linear = odeint(oscillator_state_linear, state0, t, args=(delta, alpha, gamma, omega))"
   ]
  },
  {
   "cell_type": "code",
   "execution_count": null,
   "id": "4072030d",
   "metadata": {},
   "outputs": [],
   "source": [
    "x_state  = sol[:,0]\n",
    "vx_state = sol[:,1]\n",
    "x_state_tool = sol_tool[:,0]\n",
    "vx_state_tool = sol_tool[:,1]\n",
    "noise = 0.025 # 0.025\n",
    "x_state_tool = x_state_tool + noise*np.std(x_state_tool)*np.random.randn(len(x_state_tool))\n",
    "vx_state_tool = vx_state_tool + noise*np.std(vx_state_tool)*np.random.randn(len(vx_state_tool))\n"
   ]
  },
  {
   "cell_type": "code",
   "execution_count": null,
   "id": "c29fd677",
   "metadata": {},
   "outputs": [],
   "source": [
    "plt.figure(figsize=(12,4))\n",
    "plt.subplot(121)\n",
    "plt.plot(t_sol,x_state,c='r',label='x')\n",
    "plt.plot(t_sol,x_state_tool,c='b',label=' x tool')\n",
    "plt.xlabel('t')\n",
    "plt.ylabel('x')\n",
    "plt.legend()\n",
    "\n",
    "plt.subplot(122)\n",
    "plt.plot(t_sol,vx_state,c='r',label='vx')\n",
    "plt.plot(t_sol,vx_state_tool,c='b',label=' vx tool')\n",
    "plt.xlabel('t')\n",
    "plt.ylabel('vx')\n",
    "plt.legend()\n",
    "plt.show()"
   ]
  },
  {
   "cell_type": "code",
   "execution_count": null,
   "id": "aec53392",
   "metadata": {},
   "outputs": [],
   "source": [
    "plt.figure(figsize=(12,4))\n",
    "plt.subplot(121)\n",
    "plt.plot(x_state,vx_state,c='b')\n",
    "plt.scatter(x_state[0],vx_state[0],c='r')\n",
    "plt.xlabel('x')\n",
    "plt.ylabel('vx')\n",
    "\n",
    "plt.subplot(122)\n",
    "plt.plot(x_state_tool,vx_state_tool,c='b')\n",
    "plt.scatter(x_state_tool[0],vx_state_tool[0],c='r')\n",
    "plt.xlabel('x')\n",
    "plt.ylabel('vx')\n",
    "\n",
    "plt.show()"
   ]
  },
  {
   "cell_type": "code",
   "execution_count": null,
   "id": "ec85e21b",
   "metadata": {},
   "outputs": [],
   "source": [
    "train_data = 100\n",
    "filter_data = np.random.choice(len(t_sol), train_data, replace=False)\n",
    "\n",
    "\n",
    "train_data_tool = 100\n",
    "\n",
    "same_data_tool = True\n",
    "\n",
    "if same_data_tool:\n",
    "    filter_data_tool = filter_data\n",
    "else:\n",
    "    filter_data_tool = np.random.choice(len(t_sol), train_data_tool, replace=False)\n",
    "\n"
   ]
  },
  {
   "cell_type": "code",
   "execution_count": null,
   "id": "cf872b65",
   "metadata": {},
   "outputs": [],
   "source": [
    "print('train data percent: ', len(filter_data)*100.0/len(t_sol), '%')\n",
    "print('train data tool percent: ', len(filter_data_tool)*100.0/len(t_sol), '%')\n"
   ]
  },
  {
   "cell_type": "code",
   "execution_count": null,
   "id": "15aa71aa",
   "metadata": {},
   "outputs": [],
   "source": [
    "t_tensor = torch.tensor(t_sol,dtype=torch.float32)\n",
    "x_tensor = torch.tensor(x_state,dtype=torch.float32)\n",
    "vx_tensor = torch.tensor(vx_state,dtype=torch.float32)\n",
    "\n",
    "t_tool_tensor = torch.tensor(t_sol,dtype=torch.float32)\n",
    "x_tool_tensor = torch.tensor(x_state_tool,dtype=torch.float32)\n",
    "vx_tool_tensor = torch.tensor(vx_state_tool,dtype=torch.float32)\n",
    "\n"
   ]
  },
  {
   "cell_type": "code",
   "execution_count": null,
   "id": "f6eee265",
   "metadata": {},
   "outputs": [],
   "source": [
    "t_tensor_train = t_tensor[filter_data]\n",
    "x_tensor_train = x_tensor[filter_data]\n",
    "vx_tensor_train = vx_tensor[filter_data]\n",
    "t_tool_tensor_train = t_tool_tensor[filter_data_tool]\n",
    "x_tool_tensor_train = x_tool_tensor[filter_data_tool]\n",
    "vx_tool_tensor_train = vx_tool_tensor[filter_data_tool]"
   ]
  },
  {
   "cell_type": "code",
   "execution_count": null,
   "id": "807fa203",
   "metadata": {},
   "outputs": [],
   "source": [
    "plt.figure()\n",
    "plt.scatter(t_tensor_train.flatten(),x_tensor_train.flatten())\n",
    "plt.plot(t_tensor.flatten(),x_tensor.flatten(),label='x')\n",
    "plt.scatter(t_tool_tensor_train.flatten(),x_tool_tensor_train.flatten())\n",
    "plt.plot(t_tool_tensor.flatten(),x_tool_tensor.flatten(),label='x tool')\n",
    "plt.legend()\n",
    "plt.show()"
   ]
  },
  {
   "cell_type": "code",
   "execution_count": null,
   "id": "caf3d5b2",
   "metadata": {},
   "outputs": [],
   "source": [
    "T = tp.spaces.R1('t') # input space (t)\n",
    "STATE = tp.spaces.R2('state') \n",
    "X = tp.spaces.R1('x')\n",
    "VX = tp.spaces.R1('vx')\n",
    "X2 = tp.spaces.R1('x2')\n",
    "VX2 = tp.spaces.R1('vx2')\n",
    "T2 = tp.spaces.R1('t2')\n",
    "CORR = tp.spaces.R2('corr')"
   ]
  },
  {
   "cell_type": "code",
   "execution_count": null,
   "id": "a678180c",
   "metadata": {},
   "outputs": [],
   "source": [
    "I     = tp.domains.Interval(space=T, lower_bound=t_sol.min(), upper_bound=t_sol.max())"
   ]
  },
  {
   "cell_type": "code",
   "execution_count": null,
   "id": "800e71ad",
   "metadata": {},
   "outputs": [],
   "source": [
    "normalization_layer = tp.models.NormalizationLayer(I)\n",
    "fcn_layer           = tp.models.FCN(input_space=T, output_space=STATE, hidden = (100,100,100))"
   ]
  },
  {
   "cell_type": "code",
   "execution_count": null,
   "id": "b87cf517",
   "metadata": {},
   "outputs": [],
   "source": [
    "model_state = tp.models.Sequential(normalization_layer, fcn_layer)"
   ]
  },
  {
   "cell_type": "code",
   "execution_count": null,
   "id": "31ef62ac",
   "metadata": {},
   "outputs": [],
   "source": [
    "input_data_train = tp.spaces.Points(torch.column_stack([t_tensor_train]), T,device='cuda')\n",
    "output_data_train = tp.spaces.Points(torch.column_stack([x_tensor_train,vx_tensor_train]),STATE,device='cuda')\n",
    "\n",
    "input_data_tool_train = tp.spaces.Points(torch.column_stack([t_tool_tensor_train]), T,device='cuda')\n",
    "output_data_tool_train = tp.spaces.Points(torch.column_stack([x_tool_tensor_train,vx_tool_tensor_train]),STATE,device='cuda')\n"
   ]
  },
  {
   "cell_type": "code",
   "execution_count": null,
   "id": "057ef2c0",
   "metadata": {},
   "outputs": [],
   "source": [
    "device = 'cuda' if torch.cuda.is_available() else 'cpu'"
   ]
  },
  {
   "cell_type": "code",
   "execution_count": null,
   "id": "fb2bab15",
   "metadata": {},
   "outputs": [],
   "source": [
    "data_loader = tp.utils.PointsDataLoader((input_data_train, output_data_train), batch_size=len(input_data_train),\n",
    "                                                                  shuffle  = False,\n",
    "                                                                  pin_memory = True)\n",
    "\n",
    "\n",
    "data_condition  = DataCondition(module=model_state,dataloader=data_loader,\n",
    "                                                        norm=2,\n",
    "                                                        use_full_dataset=True,\n",
    "                                                        name=\"Data_Condition\",\n",
    "                                                        weight = 1)\n",
    "                                                        "
   ]
  },
  {
   "cell_type": "code",
   "execution_count": null,
   "id": "4e75301e",
   "metadata": {},
   "outputs": [],
   "source": [
    "fcn_layer_corr          = tp.models.FCN(input_space=T*T2*X*X2*VX*VX2, output_space= CORR, hidden = (100,100))\n",
    "model_corr           = tp.models.Sequential(fcn_layer_corr)"
   ]
  },
  {
   "cell_type": "code",
   "execution_count": null,
   "id": "182632c1",
   "metadata": {},
   "outputs": [],
   "source": [
    "data_tool_loader = tp.utils.PointsDataLoader((input_data_tool_train, output_data_tool_train), batch_size=len(input_data_tool_train),\n",
    "                                                                  shuffle  = False,\n",
    "                                                                  pin_memory = True)"
   ]
  },
  {
   "cell_type": "code",
   "execution_count": null,
   "id": "df3f3c74",
   "metadata": {},
   "outputs": [],
   "source": [
    "\n",
    "def residual_func(t):\n",
    "    \n",
    "    state = model_state(tp.spaces.Points(t, T))\n",
    "    \n",
    "    state = state.as_tensor \n",
    "    \n",
    "    x, vx = state[:,0:1], state[:,1:2]\n",
    "    \n",
    "    model_corr_inp = tp.spaces.Points(torch.column_stack((t,t**2,x,x**2,vx,vx**2)), T*T2*X*X2*VX*VX2)#, device = 'cuda')\n",
    "    \n",
    "    corr = model_corr(model_corr_inp)\n",
    "    \n",
    "    corr = corr.as_tensor\n",
    "    \n",
    "    res =  state - output_data_tool_train.as_tensor - corr \n",
    "    \n",
    "    return res\n",
    "\n",
    "\n",
    "def correction_func(t,state):\n",
    "    \n",
    "    #x = model_state(tp.spaces.Points(t, T))\n",
    "    \n",
    "    #x = x.as_tensor \n",
    "    \n",
    "    x, vx = state[:,0:1], state[:,1:2]\n",
    "   \n",
    "    model_corr_inp = tp.spaces.Points(torch.column_stack((t,t**2,x,x**2,vx,vx**2)), T*T2*X*X2*VX*VX2) #, device = 'cuda')\n",
    "    \n",
    "    corr = model_corr(model_corr_inp)\n",
    "    \n",
    "    #corr = corr.as_tensor\n",
    "    \n",
    "    #res =  x - output_data_tool_train.as_tensor - corr \n",
    "\n",
    "    return corr #res\n",
    "\n"
   ]
  },
  {
   "cell_type": "code",
   "execution_count": null,
   "id": "496244ac",
   "metadata": {},
   "outputs": [],
   "source": [
    "hpcm_condition =  HPCMCondition(module_state = model_state, module_corr = model_corr, dataloader_corr = data_tool_loader ,correction_fn =  correction_func)\n"
   ]
  },
  {
   "cell_type": "code",
   "execution_count": null,
   "id": "ce0b7836",
   "metadata": {},
   "outputs": [],
   "source": [
    "training_conditions = [data_condition,hpcm_condition]\n",
    "optim = tp.OptimizerSetting(optimizer_class=torch.optim.Adam, lr=0.001)\n",
    "solver = tp.solver.Solver(train_conditions=training_conditions, optimizer_setting=optim)"
   ]
  },
  {
   "cell_type": "code",
   "execution_count": null,
   "id": "c59a70d5",
   "metadata": {},
   "outputs": [],
   "source": [
    "# Start the training\n",
    "trainer = pl.Trainer(gpus=1, max_steps=10000, logger=True,benchmark=True)\n",
    "\n",
    "trainer.fit(solver) # start training\n"
   ]
  },
  {
   "cell_type": "code",
   "execution_count": null,
   "id": "96aae043",
   "metadata": {},
   "outputs": [],
   "source": [
    "input_data_test = tp.spaces.Points(torch.column_stack([t_tensor]), T,device='cpu')"
   ]
  },
  {
   "cell_type": "code",
   "execution_count": null,
   "id": "ea8af79c",
   "metadata": {},
   "outputs": [],
   "source": [
    "def model_state_output(t):\n",
    "    out = model_state(tp.spaces.Points(t, T,device='cpu')).as_tensor.detach().numpy()\n",
    "    x = out[:,0:1]\n",
    "    vx  = out[:,1:2]\n",
    "    return x, vx\n",
    "    \n",
    "\n",
    "    \n",
    "def model_correction_output(t):\n",
    "    \n",
    "    state = model_state(tp.spaces.Points(t, T,device='cpu'))\n",
    "    \n",
    "    state = state.as_tensor  \n",
    "    \n",
    "    x, vx = state[:,0:1], state[:,1:2]\n",
    "        \n",
    "    model_corr_inp = tp.spaces.Points(torch.column_stack((t,t**2,x,x**2,vx,vx**2)), T*T2*X*X2*VX*VX2) #, device = 'cuda')\n",
    "    \n",
    "    corr = model_corr(model_corr_inp)\n",
    "    \n",
    "    corr = corr.as_tensor.detach().numpy()\n",
    "    \n",
    "    x_corr = corr[:,0:1]\n",
    "    vx_corr = corr[:,1:2]\n",
    "    \n",
    "    return x_corr, vx_corr\n"
   ]
  },
  {
   "cell_type": "code",
   "execution_count": null,
   "id": "e5d5f9fa",
   "metadata": {},
   "outputs": [],
   "source": [
    "def L2_ERROR(true_val,pred_val):\n",
    "    \n",
    "    return np.linalg.norm(true_val-pred_val,2)/np.linalg.norm(true_val,2)\n",
    "\n",
    "def R2_SCORE(true_val,pred_val):\n",
    "    \n",
    "    mean_true = np.mean(true_val)\n",
    "    \n",
    "    return 1.0 - np.mean(np.square(true_val-pred_val))/np.mean(np.square(true_val-mean_true))\n"
   ]
  },
  {
   "cell_type": "code",
   "execution_count": null,
   "id": "c9fce069",
   "metadata": {},
   "outputs": [],
   "source": [
    "x_state_pred, vx_state_pred =  model_state_output(t_tensor.reshape(-1,1))\n",
    "x_corr_pred, vx_corr_pred =  model_correction_output(t_tool_tensor.reshape(-1,1))\n",
    "\n",
    "x_state_with_corr = x_corr_pred  + x_tool_tensor.reshape(-1,1).numpy()\n",
    "vx_state_with_corr = vx_corr_pred  + vx_tool_tensor.reshape(-1,1).numpy()"
   ]
  },
  {
   "cell_type": "code",
   "execution_count": null,
   "id": "e31b5fb3",
   "metadata": {},
   "outputs": [],
   "source": [
    "error_pred_x =  L2_ERROR(x_state.flatten(),x_state_pred.flatten())\n",
    "error_pred_vx =  L2_ERROR(vx_state.flatten(),vx_state_pred.flatten())\n",
    "error_pred_x_with_corr = L2_ERROR(x_state.flatten(),x_state_with_corr.flatten())\n",
    "error_pred_vx_with_corr = L2_ERROR(vx_state.flatten(),vx_state_with_corr.flatten())\n",
    "\n",
    "print('L2 Error x: ',error_pred_x)\n",
    "print('L2 Error vx: ',error_pred_vx)\n",
    "print('L2 Error x with correction: ',error_pred_x_with_corr)\n",
    "print('L2 Error vx with correction: ',error_pred_vx_with_corr)\n"
   ]
  },
  {
   "cell_type": "code",
   "execution_count": null,
   "id": "020822e2",
   "metadata": {},
   "outputs": [],
   "source": []
  },
  {
   "cell_type": "code",
   "execution_count": null,
   "id": "a76297a4",
   "metadata": {},
   "outputs": [],
   "source": []
  },
  {
   "cell_type": "code",
   "execution_count": null,
   "id": "373947b9",
   "metadata": {},
   "outputs": [],
   "source": [
    "\n",
    "plt.figure(figsize=(12,4))\n",
    "plt.subplot(121)\n",
    "plt.plot(t_sol.flatten(),x_state.flatten(),label='x True')\n",
    "plt.plot(t_sol.flatten(),x_state_pred.flatten(),label='x Pred')\n",
    "plt.plot(t_sol.flatten(),x_state_with_corr.flatten(),label='x Pred Corr.')\n",
    "plt.legend()\n",
    "\n",
    "plt.subplot(122)\n",
    "plt.plot(t_sol.flatten(),vx_state.flatten(),label='vx True')\n",
    "plt.plot(t_sol.flatten(),vx_state_pred.flatten(),label='vx Pred')\n",
    "plt.plot(t_sol.flatten(),vx_state_with_corr.flatten(),label='vx Pred Corr.')\n",
    "plt.legend()\n",
    "plt.show()"
   ]
  },
  {
   "cell_type": "code",
   "execution_count": null,
   "id": "40790a6f",
   "metadata": {},
   "outputs": [],
   "source": []
  },
  {
   "cell_type": "code",
   "execution_count": null,
   "id": "020427de",
   "metadata": {},
   "outputs": [],
   "source": []
  },
  {
   "cell_type": "code",
   "execution_count": null,
   "id": "4e51ec23",
   "metadata": {},
   "outputs": [],
   "source": []
  },
  {
   "cell_type": "code",
   "execution_count": null,
   "id": "41628f74",
   "metadata": {},
   "outputs": [],
   "source": []
  }
 ],
 "metadata": {
  "kernelspec": {
   "display_name": "Python [conda env:.conda-torchphysics]",
   "language": "python",
   "name": "conda-env-.conda-torchphysics-py"
  },
  "language_info": {
   "codemirror_mode": {
    "name": "ipython",
    "version": 3
   },
   "file_extension": ".py",
   "mimetype": "text/x-python",
   "name": "python",
   "nbconvert_exporter": "python",
   "pygments_lexer": "ipython3",
   "version": "3.7.16"
  }
 },
 "nbformat": 4,
 "nbformat_minor": 5
}
