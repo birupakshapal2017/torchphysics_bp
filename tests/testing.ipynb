{
 "cells": [
  {
   "cell_type": "code",
   "execution_count": 1,
   "id": "753b4617",
   "metadata": {},
   "outputs": [
    {
     "name": "stderr",
     "output_type": "stream",
     "text": [
      "/home/ibp5kor/.conda/envs/torchphysics/lib/python3.7/site-packages/tqdm/auto.py:22: TqdmWarning: IProgress not found. Please update jupyter and ipywidgets. See https://ipywidgets.readthedocs.io/en/stable/user_install.html\n",
      "  from .autonotebook import tqdm as notebook_tqdm\n"
     ]
    }
   ],
   "source": [
    "import torch\n",
    "import pytest\n",
    "from torchphysics.problem.conditions import *\n",
    "from torchphysics.problem.spaces import Points, R1, R2\n",
    "from torchphysics.problem.domains import Interval\n",
    "from torchphysics.problem.samplers import GridSampler, DataSampler\n",
    "from torchphysics.utils import UserFunction, laplacian, PointsDataLoader\n",
    "from torchphysics.models import Parameter"
   ]
  },
  {
   "cell_type": "code",
   "execution_count": 7,
   "id": "eeb08f16",
   "metadata": {},
   "outputs": [],
   "source": [
    "import test_conditions\n",
    "\n"
   ]
  },
  {
   "cell_type": "code",
   "execution_count": 8,
   "id": "cffcea2b",
   "metadata": {},
   "outputs": [],
   "source": [
    "test_conditions.test_create_general_condition()"
   ]
  },
  {
   "cell_type": "code",
   "execution_count": 9,
   "id": "2c3a876a",
   "metadata": {},
   "outputs": [],
   "source": [
    "test_conditions.test_track_gradients()"
   ]
  },
  {
   "cell_type": "code",
   "execution_count": 10,
   "id": "6098a9a1",
   "metadata": {},
   "outputs": [],
   "source": [
    "test_conditions.test_HPM_EquationLoss_at_DataPoints()"
   ]
  },
  {
   "cell_type": "code",
   "execution_count": 11,
   "id": "124300bf",
   "metadata": {},
   "outputs": [],
   "source": [
    "test_conditions.test_HPM_EquationLoss_at_Sampler()"
   ]
  },
  {
   "cell_type": "code",
   "execution_count": null,
   "id": "7a1fdb2a",
   "metadata": {},
   "outputs": [],
   "source": []
  },
  {
   "cell_type": "code",
   "execution_count": null,
   "id": "73df72f7",
   "metadata": {},
   "outputs": [],
   "source": []
  },
  {
   "cell_type": "code",
   "execution_count": null,
   "id": "11900e4b",
   "metadata": {},
   "outputs": [],
   "source": []
  }
 ],
 "metadata": {
  "kernelspec": {
   "display_name": "Python [conda env:.conda-torchphysics]",
   "language": "python",
   "name": "conda-env-.conda-torchphysics-py"
  },
  "language_info": {
   "codemirror_mode": {
    "name": "ipython",
    "version": 3
   },
   "file_extension": ".py",
   "mimetype": "text/x-python",
   "name": "python",
   "nbconvert_exporter": "python",
   "pygments_lexer": "ipython3",
   "version": "3.7.16"
  }
 },
 "nbformat": 4,
 "nbformat_minor": 5
}
